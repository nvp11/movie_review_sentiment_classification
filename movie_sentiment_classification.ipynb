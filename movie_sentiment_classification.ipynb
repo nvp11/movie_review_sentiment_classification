{
 "cells": [
  {
   "cell_type": "code",
   "execution_count": null,
   "metadata": {},
   "outputs": [],
   "source": []
  },
  {
   "cell_type": "code",
   "execution_count": 1,
   "metadata": {},
   "outputs": [],
   "source": [
    "# read the text file programmatically\n",
    "# filter the complete the sentences (you will get like 6000 approx number of complete sentences)\n",
    "# select 50 setences randomly out of 6000 sentences\n",
    "# print those 50 sentences here\n",
    "# do manually analysis to find indicative features/words\n"
   ]
  },
  {
   "cell_type": "code",
   "execution_count": 2,
   "metadata": {},
   "outputs": [],
   "source": [
    "import pandas as pd\n",
    "import numpy as np\n",
    "from sklearn.metrics import accuracy_score\n",
    "from sklearn.linear_model import LogisticRegression\n",
    "from sklearn.feature_extraction.text import CountVectorizer\n",
    "from itertools import islice\n",
    "import sys\n",
    "import torch\n",
    "import torch.nn as nnll performance summary =  0.48383582711223ll performance summary =  0.483ll performance summary =  0.4838358271122383582711223\n",
    "import torch.nn.functional as F\n",
    "\n",
    "\n",
    "vectorizer = None"
   ]
  },
  {
   "cell_type": "code",
   "execution_count": 3,
   "metadata": {},
   "outputs": [],
   "source": [
    "def read_file(file_path):\n",
    "    \n",
    "    df = pd.read_csv(file_path, sep = '\\t')\n",
    "    df.head()\n",
    "    return dfll performance summary =  0.48383582711223\n"
   ]
  },
  {
   "cell_type": "code",
   "execution_count": 4,
   "metadata": {},
   "outputs": [],
   "source": [
    "def get_sentences_and_sentiments(df):\n",
    "    counter = 0 \n",
    "    Id = 1\n",
    "    list_of_sentences = []\n",
    "    word_in_sent = []\n",
    "    list_of_sentiments = []\n",
    "    for num in range(len(df['SentenceId'])):\n",
    "\n",
    "        #if Id == df['SentenceId'][counter]:\n",
    "        list_of_sentences.append(df['Phrase'][num])\n",
    "        list_of_sentiments.append(df['Sentiment'][num])\n",
    "\n",
    "            #print(str(Id) + \") \" + df['Phrase'][counter] + str(df['Sentiment'][counter]) +\"\\n\")\n",
    "            #Id = Id + 1 \n",
    "        #counter = counter + 1 \n",
    "    #print(list_of_sentences)\n",
    "    #print(list_of_sentiments) \n",
    "\n",
    "    y = np.array(list_of_sentiments)\n",
    "    print(y)\n",
    "    return list_of_sentences, y"
   ]
  },
  {
   "cell_type": "code",
   "execution_count": 5,
   "metadata": {},
   "outputs": [],
   "source": [
    "def split_data(list_of_sentences,y):\n",
    "    train_list_of_sentence = []\n",
    "    test_list_of_sentence = []\n",
    "    split_index = int(len(list_of_sentences)*0.2)\n",
    "    #length_to_split = [int(len(list_of_sentences)*0.8), int(len(list_of_sentences)*0.2)]\n",
    "    #sen = iter(list_of_sentences)\n",
    "    #sentences = [list(islice(sen,elem))\n",
    "    #            for elem in length_to_split]\n",
    "    #print(sentences)\n",
    "    print(\"list of sentences \" , len(list_of_sentences))\n",
    "    print(\"Slpit_index\", split_index)\n",
    "    train_list_of_sentence = list_of_sentences[ :-split_index]\n",
    "\n",
    "    test_list_of_sentence = list_of_sentences[-split_index: ]\n",
    "\n",
    "    print(len(test_list_of_sentence))\n",
    "    \n",
    "    y_train=y[ :-split_index]\n",
    "    y_test = y[-split_index: ]\n",
    "    print(\"y_train\", len(y_train))\n",
    "    print(\"y_test\", len(y_test))\n",
    "    return train_list_of_sentence, test_list_of_sentence,y_test,y_train"
   ]
  },
  {
   "cell_type": "code",
   "execution_count": 6,
   "metadata": {},
   "outputs": [],
   "source": [
    "def convert_sentence_to_vector(sentences): #,test_list_of_sentence):\n",
    "    global vectorizer\n",
    "    \n",
    "    if vectorizer == None:\n",
    "        vectorizer = CountVectorizer()\n",
    "        vectorizer.fit(sentences)\n",
    "    else:\n",
    "        pass\n",
    "    \n",
    "    X_vec = vectorizer.transform(sentences)\n",
    "    \n",
    "    '''print(X_train.shape)\n",
    "    print(type(X_train))\n",
    "    X_train_dense = X_train.todense()ll performance summary =  0.48383582711223\n",
    "    print(X_train_dense.shape)\n",
    "\n",
    "    print(sys.getsizeof(X_train_dense))\n",
    "    print(X_train_dense[10].tolist())'''\n",
    "    return X_vec"
   ]
  },
  {
   "cell_type": "code",
   "execution_count": 7,
   "metadata": {},
   "outputs": [],
   "source": [
    "def train_classifier(X_train,y_train):\n",
    "    reg = LogisticRegression().fit(X_train, y_train)\n",
    "    return reg\n",
    "def prediction(reg, X_test):\n",
    "    predections = reg.predict(X_test)\n",
    "    print(\"prediction\", predections.shape)\n",
    "    return predections\n",
    "\n",
    "def evulate(predections, y_test):\n",
    "    score = accuracy_score(y_test, predections)\n",
    "    return score"
   ]
  },
  {
   "cell_type": "code",
   "execution_count": 8,
   "metadata": {},
   "outputs": [
    {
     "name": "stdout",
     "output_type": "stream",
     "text": [
      "[1 2 2 ... 3 2 2]\n",
      "156059\n",
      "list of sentences  156059\n",
      "Slpit_index 31211\n",
      "31211\n",
      "y_train 124848\n",
      "y_test 31211\n",
      "y_train 124848\n",
      "X_train 124848\n",
      "X_test 31211\n",
      "y_test 31211\n"
     ]
    },
    {
     "name": "stderr",
     "output_type": "stream",
     "text": [
      "/home/nidhi/anaconda3/lib/python3.7/site-packages/sklearn/linear_model/logistic.py:432: FutureWarning: Default solver will be changed to 'lbfgs' in 0.22. Specify a solver to silence this warning.\n",
      "  FutureWarning)\n",
      "/home/nidhi/anaconda3/lib/python3.7/site-packages/sklearn/linear_model/logistic.py:469: FutureWarning: Default multi_class will be changed to 'auto' in 0.22. Specify the multi_class option to silence this warning.\n",
      "  \"this warning.\", FutureWarning)\n"
     ]
    },
    {
     "name": "stdout",
     "output_type": "stream",
     "text": [
      "prediction (31211,)\n",
      "0.5829355035083784\n"
     ]
    }
   ],
   "source": [
    "data = read_file(\"/home/nidhi/Projects_Jupyter_Notebook/Movie_sentiments_classifier/train.tsv\")\n",
    "all_sentences, all_sentiments = get_sentences_and_sentiments(data)\n",
    "print(len(all_sentences))\n",
    "X_train, X_test, y_test, y_train = split_data(all_sentences,all_sentiments)\n",
    "vector_train = convert_sentence_to_vector(X_train)\n",
    "print(\"y_train\", len(y_train))\n",
    "print(\"X_train\", len(X_train))\n",
    "print(\"X_test\", len(X_test))\n",
    "print(\"y_test\", len(y_test))\n",
    "vector_test = convert_sentence_to_vector(X_test)\n",
    "clf = train_classifier(vector_train, y_train)\n",
    "pre = prediction(clf,vector_test)\n",
    "evu = evulate(pre, y_test)\n",
    "print(evu)"
   ]
  },
  {
   "cell_type": "code",
   "execution_count": 9,
   "metadata": {},
   "outputs": [],
   "source": [
    "import pickle\n",
    "import nltk\n",
    "from nltk.tokenize import word_tokenize\n",
    "import numpy\n"
   ]
  },
  {
   "cell_type": "code",
   "execution_count": 10,
   "metadata": {},
   "outputs": [
    {
     "name": "stdout",
     "output_type": "stream",
     "text": [
      "(400000, 100)\n",
      "(400001, 100)\n"
     ]
    }
   ],
   "source": [
    "word_to_index = pickle.load(open(\"/home/nidhi/Projects_Jupyter_Notebook/PycharmProjects/practice_glove/word_index.pkl\", \"rb\"))\n",
    "word_to_index['OoV'] = len(word_to_index)\n",
    "glove_embeddings = pickle.load(open(\"/home/nidhi/Projects_Jupyter_Notebook/PycharmProjects/practice_glove/glove_lookup_matrix.pkl\", \"rb\"))\n",
    "print(glove_embeddings.shape)\n",
    "\n",
    "numpy.random.seed(56)\n",
    "OoV_vector = numpy.random.rand(100)\n",
    "glove_embeddings = numpy.vstack([glove_embeddings, OoV_vector])\n",
    "print(glove_embeddings.shape)    \n",
    "\n"
   ]
  },
  {
   "cell_type": "code",
   "execution_count": 11,
   "metadata": {},
   "outputs": [],
   "source": [
    "def convert_sent_to_index(sentence):\n",
    "    var_index = []\n",
    "    words = word_tokenize(sentence)\n",
    "    for word in words:\n",
    "        word = word.lower()\n",
    "        \n",
    "        if word_to_index.get(word) == None:\n",
    "            var_index.append(word_to_index['OoV'])\n",
    "        else:\n",
    "            var_index.append(word_to_index.get(word))\n",
    "    return var_index"
   ]
  },
  {
   "cell_type": "code",
   "execution_count": 12,
   "metadata": {},
   "outputs": [],
   "source": [
    "class movie_sentiments_one_layer(nn.Module):\n",
    "    \n",
    "    def __init__(self, in_features=100, h1 = 100, out_features = 5):\n",
    "        \n",
    "        super(movie_sentiments_one_layer, self).__init__()\n",
    "        self.fc1 = nn.Linear(in_features, h1)\n",
    "        self.out = nn.Linear(h1, out_features)\n",
    "        self.sigmoid = nn.Sigmoid()\n",
    "        self.softmax = nn.Softmax()\n",
    "        self.embedding = nn.Embedding.from_pretrained(torch.from_numpy(glove_embeddings))\n",
    "    \n",
    "    def forward(self,x_sentences):\n",
    "        x_vectors = []\n",
    "        \n",
    "        for sentence in x_sentences:\n",
    "            x_indices = convert_sent_to_index(sentence)\n",
    "            x_matrix = self.embedding(torch.from_numpy(numpy.array(x_indices)).long())\n",
    "            x_vector = torch.sum(x_matrix, dim=0).reshape(1,100)\n",
    "            x_vectors.append(x_vector)\n",
    "        \n",
    "                \n",
    "        x_vectors = torch.cat(x_vectors, dim=0).float()\n",
    "        h1 = F.relu(self.fc1(x_vectors))\n",
    "        out = self.out(h1)\n",
    "        out = self.sigmoid(out)\n",
    "        out = self.softmax(out)\n",
    "        \n",
    "        return out\n",
    "        "
   ]
  },
  {
   "cell_type": "code",
   "execution_count": 13,
   "metadata": {},
   "outputs": [],
   "source": [
    "model = movie_sentiments_one_layer()\n",
    "\n",
    "criterion = nn.CrossEntropyLoss()\n",
    "optimizer = torch.optim.Adam(model.parameters(), lr=0.001)"
   ]
  },
  {
   "cell_type": "code",
   "execution_count": 14,
   "metadata": {},
   "outputs": [
    {
     "name": "stderr",
     "output_type": "stream",
     "text": [
      "/home/nidhi/anaconda3/lib/python3.7/site-packages/ipykernel_launcher.py:26: UserWarning: Implicit dimension choice for softmax has been deprecated. Change the call to include dim=X as an argument.\n"
     ]
    },
    {
     "name": "stdout",
     "output_type": "stream",
     "text": [
      "epoch 0 and loss is 1.6061348915100098\n",
      "epoch 1 and loss is 1.6013691425323486\n",
      "epoch 2 and loss is 1.5967177152633667\n",
      "epoch 3 and loss is 1.5923799276351929\n",
      "epoch 4 and loss is 1.5884723663330078\n",
      "epoch 5 and loss is 1.5849807262420654\n",
      "epoch 6 and loss is 1.581884503364563\n",
      "epoch 7 and loss is 1.5791338682174683\n",
      "epoch 8 and loss is 1.5766700506210327\n",
      "epoch 9 and loss is 1.5744224786758423\n"
     ]
    }
   ],
   "source": [
    "epochs = 10 \n",
    "losses = []\n",
    "\n",
    "for i in range(epochs):\n",
    "    \n",
    "    # Forward and get a prediction \n",
    "    \n",
    "    y_pred = model.forward(X_train)\n",
    "    \n",
    "    # Calculate Loss/error\n",
    "    \n",
    "    loss = criterion(y_pred,torch.from_numpy(numpy.array(y_train)))\n",
    "    losses.append(loss)\n",
    "    \n",
    "    #if i % 10 ==0:\n",
    "    print(f'epoch {i} and loss is {loss}')\n",
    "        \n",
    "        \n",
    "    #Backpropogation\n",
    "    \n",
    "    optimizer.zero_grad()\n",
    "    loss.backward()\n",
    "    optimizer.step()"
   ]
  },
  {
   "cell_type": "code",
   "execution_count": 15,
   "metadata": {},
   "outputs": [
    {
     "data": {
      "text/plain": [
       "Text(0.5, 0, 'Epoch')"
      ]
     },
     "execution_count": 15,
     "metadata": {},
     "output_type": "execute_result"
    },
    {
     "data": {
      "image/png": "[encoded data removed]",
      "text/plain": [
       "<Figure size 432x288 with 1 Axes>"
      ]
     },
     "metadata": {
      "needs_background": "light"
     },
     "output_type": "display_data"
    }
   ],
   "source": [
    "import matplotlib.pyplot as plt\n",
    "%matplotlib inline\n",
    "\n",
    "plt.plot(range(epochs),losses)\n",
    "plt.ylabel('Loss')\n",
    "plt.xlabel('Epoch')"
   ]
  },
  {
   "cell_type": "code",
   "execution_count": 16,
   "metadata": {},
   "outputs": [
    {
     "name": "stderr",
     "output_type": "stream",
     "text": [
      "/home/nidhi/anaconda3/lib/python3.7/site-packages/ipykernel_launcher.py:26: UserWarning: Implicit dimension choice for softmax has been deprecated. Change the call to include dim=X as an argument.\n"
     ]
    }
   ],
   "source": [
    "with torch.no_grad():\n",
    "        y_val = model.forward(X_test)\n",
    "        y_pred = numpy.argmax(y_val.numpy(), axis=1)"
   ]
  },
  {
   "cell_type": "code",
   "execution_count": 29,
   "metadata": {},
   "outputs": [
    {
     "name": "stdout",
     "output_type": "stream",
     "text": [
      "Per class performance summary =  0.1380910316922874\n",
      "Over all performance summary =  0.483835827112236\n",
      "Classificaion Report:                precision    recall  f1-score   support\n",
      "\n",
      "           0       0.00      0.00      0.00      1443\n",
      "           1       0.23      0.00      0.00      5918\n",
      "           2       0.49      0.97      0.65     15362\n",
      "           3       0.21      0.02      0.03      6605\n",
      "           4       0.00      0.00      0.00      1883\n",
      "\n",
      "    accuracy                           0.48     31211\n",
      "   macro avg       0.19      0.20      0.14     31211\n",
      "weighted avg       0.33      0.48      0.33     31211\n",
      "\n"
     ]
    }
   ],
   "source": [
    "from sklearn.metrics import f1_score\n",
    "from sklearn.metrics import classification_report\n",
    "\n",
    "\n",
    "print(\"Per class performance summary = \" , f1_score(y_test, y_pred, average = 'macro'))\n",
    "print(\"Over all performance summary = \",f1_score(y_test, y_pred, average = 'micro'))\n",
    "\n",
    "print(\"Classificaion Report: \",classification_report(y_test, y_pred))"
   ]
  },
  {
   "cell_type": "code",
   "execution_count": 18,
   "metadata": {},
   "outputs": [
    {
     "data": {
      "text/plain": [
       "\"words = []\\nf = open('/home/nidhi/words.txt').readlines()\\n\\nfor word in f:\\n    word.strip()\\n    words.append(word.strip())\""
      ]
     },
     "execution_count": 18,
     "metadata": {},
     "output_type": "execute_result"
    }
   ],
   "source": [
    "'''words = []\n",
    "f = open('/home/nidhi/words.txt').readlines()\n",
    "\n",
    "for word in f:\n",
    "    word.strip()\n",
    "    words.append(word.strip())'''"
   ]
  },
  {
   "cell_type": "code",
   "execution_count": 19,
   "metadata": {},
   "outputs": [
    {
     "data": {
      "text/plain": [
       "'counter = 0 \\nId = 1\\nlist_of_sentences = []\\nword_in_sent = []\\nlist_of_sentiments = []\\nfor num in range(len(df[\\'SentenceId\\'])):\\n    \\n    if Id == df[\\'SentenceId\\'][counter]:\\n        list_of_sentences.append(df[\\'Phrase\\'][counter])\\n        list_of_sentiments.append(df[\\'Sentiment\\'][counter])\\n        \\n        #print(str(Id) + \") \" + df[\\'Phrase\\'][counter] + str(df[\\'Sentiment\\'][counter]) +\"\\n\")\\n        Id = Id + 1 \\n    counter = counter + 1 \\n#print(list_of_sentences)\\n#print(list_of_sentiments) \\n\\ny = np.array(list_of_sentiments)\\nprint(y)\\n\\n\\n\\n\\n#print(words)\\n\\n#l = len(list_of_sentences)\\n\\nfor i in words:\\n    vector = []\\n    for sent in list_of_sentences:\\n        if i in sent:\\n            j = 1\\n            vector.append(j)\\n            \\n        else:\\n            j = 0\\n            vector.append(j)\\n        \\n    word_in_sent.append(vector)  \\nX = np.array(word_in_sent).T\\nprint(X.shape)'"
      ]
     },
     "execution_count": 19,
     "metadata": {},
     "output_type": "execute_result"
    }
   ],
   "source": [
    "'''counter = 0 \n",
    "Id = 1\n",
    "list_of_sentences = []\n",
    "word_in_sent = []\n",
    "list_of_sentiments = []\n",
    "for num in range(len(df['SentenceId'])):\n",
    "    \n",
    "    if Id == df['SentenceId'][counter]:\n",
    "        list_of_sentences.append(df['Phrase'][counter])\n",
    "        list_of_sentiments.append(df['Sentiment'][counter])\n",
    "        \n",
    "        #print(str(Id) + \") \" + df['Phrase'][counter] + str(df['Sentiment'][counter]) +\"\\n\")\n",
    "        Id = Id + 1 \n",
    "    counter = counter + 1 \n",
    "#print(list_of_sentences)\n",
    "#print(list_of_sentiments) \n",
    "\n",
    "y = np.array(list_of_sentiments)\n",
    "print(y)\n",
    "\n",
    "\n",
    "\n",
    "\n",
    "#print(words)\n",
    "\n",
    "#l = len(list_of_sentences)\n",
    "\n",
    "for i in words:\n",
    "    vector = []\n",
    "    for sent in list_of_sentences:\n",
    "        if i in sent:\n",
    "            j = 1\n",
    "            vector.append(j)\n",
    "            \n",
    "        else:\n",
    "            j = 0\n",
    "            vector.append(j)\n",
    "        \n",
    "    word_in_sent.append(vector)  \n",
    "X = np.array(word_in_sent).T\n",
    "print(X.shape)'''\n",
    "#print(X)\n",
    "        \n",
    "#print(word_in_sent)\n",
    "    \n",
    "#print (Id)\n",
    "#print(counter)\n",
    "#print(list_of_sentences)\n",
    "\n",
    "#for i in range(len(list_of_sentences)):\n",
    "    #print(str(i) + \"\\t\" +list_of_sentences[i] + \"\\n\")\n",
    "    \n",
    "\n",
    "\n"
   ]
  },
  {
   "cell_type": "code",
   "execution_count": 20,
   "metadata": {},
   "outputs": [
    {
     "data": {
      "text/plain": [
       "'train_list_of_sentence = []\\ntest_list_of_sentence = []\\nlength_to_split = [2097,530]\\nsen = iter(list_of_sentences)\\nsentences = [list(islice(sen,elem))\\n            for elem in length_to_split]\\n#print(sentences)\\ntrain_list_of_sentence = sentences[0]\\n\\ntest_list_of_sentence = sentences[1]\\n\\nprint(len(test_list_of_sentence))'"
      ]
     },
     "execution_count": 20,
     "metadata": {},
     "output_type": "execute_result"
    }
   ],
   "source": [
    "'''train_list_of_sentence = []\n",
    "test_list_of_sentence = []\n",
    "length_to_split = [2097,530]\n",
    "sen = iter(list_of_sentences)\n",
    "sentences = [list(islice(sen,elem))\n",
    "            for elem in length_to_split]\n",
    "#print(sentences)\n",
    "train_list_of_sentence = sentences[0]\n",
    "\n",
    "test_list_of_sentence = sentences[1]\n",
    "\n",
    "print(len(test_list_of_sentence))'''\n",
    "\n"
   ]
  },
  {
   "cell_type": "code",
   "execution_count": 21,
   "metadata": {},
   "outputs": [],
   "source": [
    "#print(len(list_of_sentences), len(list_of_sentiments))"
   ]
  },
  {
   "cell_type": "code",
   "execution_count": 22,
   "metadata": {},
   "outputs": [],
   "source": [
    "#train_data = np.array(word_in_sent)\n",
    "#n = train_data.shape\n",
    "#print(n)"
   ]
  },
  {
   "cell_type": "code",
   "execution_count": 23,
   "metadata": {},
   "outputs": [],
   "source": [
    "#print(word_in_sent[0])"
   ]
  },
  {
   "cell_type": "code",
   "execution_count": 24,
   "metadata": {},
   "outputs": [],
   "source": [
    "#import random \n",
    "\n",
    "#for i in range(1,101):\n",
    "#    print(str(i) +\"\\t\" + random.choice(list_of_sentences) + \"\\n\")\n"
   ]
  },
  {
   "cell_type": "code",
   "execution_count": null,
   "metadata": {},
   "outputs": [],
   "source": [
    "\n",
    "\n"
   ]
  },
  {
   "cell_type": "code",
   "execution_count": 25,
   "metadata": {},
   "outputs": [
    {
     "data": {
      "text/plain": [
       "'vectorizer = CountVectorizer()\\nvectorizer.fit(train_list_of_sentence)\\nX_train = vectorizer.transform(train_list_of_sentence)\\nprint(X_train.shape)\\nprint(type(X_train))\\nX_train_dense = X_train.todense()\\nprint(X_train_dense.shape)\\n\\nprint(sys.getsizeof(X_train_dense))\\nprint(X_train_dense[10].tolist())'"
      ]
     },
     "execution_count": 25,
     "metadata": {},
     "output_type": "execute_result"
    }
   ],
   "source": [
    "'''vectorizer = CountVectorizer()\n",
    "vectorizer.fit(train_list_of_sentence)\n",
    "X_train = vectorizer.transform(train_list_of_sentence)\n",
    "print(X_train.shape)\n",
    "print(type(X_train))\n",
    "X_train_dense = X_train.todense()\n",
    "print(X_train_dense.shape)\n",
    "\n",
    "print(sys.getsizeof(X_train_dense))\n",
    "print(X_train_dense[10].tolist())'''"
   ]
  },
  {
   "cell_type": "code",
   "execution_count": 26,
   "metadata": {},
   "outputs": [
    {
     "data": {
      "text/plain": [
       "'X_test = vectorizer.transform(sentences[1])\\nprint(X_test.shape)'"
      ]
     },
     "execution_count": 26,
     "metadata": {},
     "output_type": "execute_result"
    }
   ],
   "source": [
    "'''X_test = vectorizer.transform(sentences[1])\n",
    "print(X_test.shape)'''\n"
   ]
  },
  {
   "cell_type": "code",
   "execution_count": null,
   "metadata": {},
   "outputs": [],
   "source": []
  },
  {
   "cell_type": "code",
   "execution_count": 27,
   "metadata": {},
   "outputs": [
    {
     "data": {
      "text/plain": [
       "'y_train=y[ :-530]\\ny_test = y[-530: ]\\nprint(len(y_train))\\nprint(len(y_test))'"
      ]
     },
     "execution_count": 27,
     "metadata": {},
     "output_type": "execute_result"
    }
   ],
   "source": [
    "'''y_train=y[ :-530]\n",
    "y_test = y[-530: ]\n",
    "print(len(y_train))\n",
    "print(len(y_test))'''"
   ]
  },
  {
   "cell_type": "code",
   "execution_count": 28,
   "metadata": {
    "scrolled": true
   },
   "outputs": [
    {
     "data": {
      "text/plain": [
       "'reg = LogisticRegression().fit(X_train, y_train)\\npredections = reg.predict(X_test)\\nprint(predections.shape)\\npredections[:10]\\naccuracy_score(y_test, predections)'"
      ]
     },
     "execution_count": 28,
     "metadata": {},
     "output_type": "execute_result"
    }
   ],
   "source": [
    "'''reg = LogisticRegression(). activation function.fit(X_train, y_train)\n",
    "predections = reg.predict(X_test)\n",
    "print(predections.shape)\n",
    "predections[:10]\n",
    "accuracy_score(y_test, predections)'''"
   ]
  },
  {
   "cell_type": "code",
   "execution_count": null,
   "metadata": {},
   "outputs": [],
   "source": [
    "\n"
   ]
  },
  {
   "cell_type": "code",
   "execution_count": null,
   "metadata": {},
   "outputs": [],
   "source": []
  },
  {
   "cell_type": "code",
   "execution_count": null,
   "metadata": {},
   "outputs": [],
   "source": []
  },
  {
   "cell_type": "code",
   "execution_count": null,
   "metadata": {},
   "outputs": [],
   "source": []
  },
  {
   "cell_type": "code",
   "execution_count": null,
   "metadata": {},
   "outputs": [],
   "source": []
  },
  {
   "cell_type": "code",
   "execution_count": null,
   "metadata": {},
   "outputs": [],
   "source": []
  }
 ],
 "metadata": {
  "kernelspec": {
   "display_name": "Python 3",
   "language": "python",
   "name": "python3"
  },
  "language_info": {
   "codemirror_mode": {
    "name": "ipython",
    "version": 3
   },
   "file_extension": ".py",
   "mimetype": "text/x-python",
   "name": "python",
   "nbconvert_exporter": "python",
   "pygments_lexer": "ipython3",
   "version": "3.7.3"
  }
 },
 "nbformat": 4,
 "nbformat_minor": 2
}
